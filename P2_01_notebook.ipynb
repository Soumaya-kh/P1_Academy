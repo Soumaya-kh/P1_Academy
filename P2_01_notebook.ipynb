{
 "cells": [
  {
   "cell_type": "code",
   "execution_count": 6,
   "metadata": {},
   "outputs": [],
   "source": [
    "import numpy as np\n",
    "import matplotlib.pyplot as plt\n",
    "import pandas as pd\n",
    "import seaborn as sns"
   ]
  },
  {
   "cell_type": "code",
   "execution_count": 7,
   "metadata": {},
   "outputs": [],
   "source": [
    "# upload datasets into dataframe\n",
    "ed_stats_country=pd.read_csv('EdStatsCountry.csv')\n",
    "ed_stats_country_series=pd.read_csv('EdStatsCountry-Series.csv')\n",
    "ed_stats_data=pd.read_csv('EdStatsData.csv')\n",
    "ed_stats_footNote=pd.read_csv('EdStatsFootNote.csv')\n",
    "ed_stats_series=pd.read_csv('EdStatsSeries.csv')"
   ]
  },
  {
   "cell_type": "markdown",
   "metadata": {},
   "source": [
    "# Define utility functions"
   ]
  },
  {
   "cell_type": "code",
   "execution_count": 14,
   "metadata": {},
   "outputs": [],
   "source": [
    "# method to calculate rows number\n",
    "def rows_nbr (dataframe):\n",
    "    #return len(dataframe)\n",
    "     return dataframe.shape[0]\n",
    "    \n",
    "    \n",
    "# method to calculate column number\n",
    "def columns_nbr(dataframe):\n",
    "    return dataframe.shape[1]\n",
    "\n",
    "# method to calculate number of missing values \n",
    "def missing_values_nbr(dataframe):\n",
    "    return dataframe.isna().sum().sum()\n",
    "\n",
    "# method to calculate the percentage of missing values\n",
    "def percentage_missing_values(dataframe):\n",
    "    return missing_values_nbr(dataframe)/dataframe.size\n",
    "\n",
    "# method to find unique rows\n",
    "def unique_rows_nbr(dataframe):\n",
    "    return len(dataframe.drop_duplicates())\n",
    "\n",
    "# method to calculate duplicate rows\n",
    "def duplicate_rows_nbr(dataframe):\n",
    "    return len(dataframe)-unique_rows_nbr(dataframe)\n",
    "\n",
    "# method to calculate the percentage of duplicated rows\n",
    "def pecentage_duplicated_rows(dataframe):\n",
    "    return duplicate_rows_nbr(dataframe)/rows_nbr(dataframe)\n",
    "        \n"
   ]
  },
  {
   "cell_type": "code",
   "execution_count": 17,
   "metadata": {},
   "outputs": [],
   "source": [
    "# method to establish a dataframe survey\n",
    "def dataframe_survey(dataframe):\n",
    "    data = {'Rows number':rows_nbr (dataframe),\n",
    "            'Columns number':columns_nbr(dataframe)}\n",
    "    data_survey = pd.DataFrame(data, index=[0])\n",
    "    #pd.DataFrame(columns = ['rows number','columns number','number of nans', 'percentage of nans','number of duplicate rows','percentage of duplicate rows'])\n",
    "    return data_survey"
   ]
  },
  {
   "cell_type": "code",
   "execution_count": 18,
   "metadata": {},
   "outputs": [
    {
     "data": {
      "text/html": [
       "<div>\n",
       "<style scoped>\n",
       "    .dataframe tbody tr th:only-of-type {\n",
       "        vertical-align: middle;\n",
       "    }\n",
       "\n",
       "    .dataframe tbody tr th {\n",
       "        vertical-align: top;\n",
       "    }\n",
       "\n",
       "    .dataframe thead th {\n",
       "        text-align: right;\n",
       "    }\n",
       "</style>\n",
       "<table border=\"1\" class=\"dataframe\">\n",
       "  <thead>\n",
       "    <tr style=\"text-align: right;\">\n",
       "      <th></th>\n",
       "      <th>Rows number</th>\n",
       "      <th>Columns number</th>\n",
       "    </tr>\n",
       "  </thead>\n",
       "  <tbody>\n",
       "    <tr>\n",
       "      <th>0</th>\n",
       "      <td>241</td>\n",
       "      <td>32</td>\n",
       "    </tr>\n",
       "  </tbody>\n",
       "</table>\n",
       "</div>"
      ],
      "text/plain": [
       "   Rows number  Columns number\n",
       "0          241              32"
      ]
     },
     "execution_count": 18,
     "metadata": {},
     "output_type": "execute_result"
    }
   ],
   "source": [
    "dataframe_survey(ed_stats_country)"
   ]
  },
  {
   "cell_type": "code",
   "execution_count": 9,
   "metadata": {},
   "outputs": [],
   "source": [
    "# method to calculate the percentage of missing values in a single row\n",
    "def percentage_nan_row(dataframe,index):\n",
    "    count_nan = dataframe.loc[[index]].isna().sum().sum()\n",
    "    return count_nan/columns_nbr(dataframe)\n",
    "\n",
    "# method to display ordered list of the percentage of nans in all rows\n",
    "def list_nan_rows(dataframe):\n",
    "    percentage_nans_frame = pd.DataFrame(columns = ['row index','nans percentage'])\n",
    "    for index in range (2):\n",
    "        percentage= percentage_nan_row(dataframe,index)\n",
    "        percentage_nans_frame['row index'] = index\n",
    "        percentage_nans_frame['nans percentage'] = percentage\n",
    "    return percentage_nans_frame\n"
   ]
  },
  {
   "cell_type": "code",
   "execution_count": 13,
   "metadata": {},
   "outputs": [
    {
     "data": {
      "text/html": [
       "<div>\n",
       "<style scoped>\n",
       "    .dataframe tbody tr th:only-of-type {\n",
       "        vertical-align: middle;\n",
       "    }\n",
       "\n",
       "    .dataframe tbody tr th {\n",
       "        vertical-align: top;\n",
       "    }\n",
       "\n",
       "    .dataframe thead th {\n",
       "        text-align: right;\n",
       "    }\n",
       "</style>\n",
       "<table border=\"1\" class=\"dataframe\">\n",
       "  <thead>\n",
       "    <tr style=\"text-align: right;\">\n",
       "      <th></th>\n",
       "      <th>row index</th>\n",
       "      <th>nans percentage</th>\n",
       "    </tr>\n",
       "  </thead>\n",
       "  <tbody>\n",
       "  </tbody>\n",
       "</table>\n",
       "</div>"
      ],
      "text/plain": [
       "Empty DataFrame\n",
       "Columns: [row index, nans percentage]\n",
       "Index: []"
      ]
     },
     "execution_count": 13,
     "metadata": {},
     "output_type": "execute_result"
    }
   ],
   "source": []
  },
  {
   "cell_type": "code",
   "execution_count": null,
   "metadata": {},
   "outputs": [],
   "source": []
  }
 ],
 "metadata": {
  "kernelspec": {
   "display_name": "Python 3",
   "language": "python",
   "name": "python3"
  },
  "language_info": {
   "codemirror_mode": {
    "name": "ipython",
    "version": 3
   },
   "file_extension": ".py",
   "mimetype": "text/x-python",
   "name": "python",
   "nbconvert_exporter": "python",
   "pygments_lexer": "ipython3",
   "version": "3.8.5"
  }
 },
 "nbformat": 4,
 "nbformat_minor": 4
}
